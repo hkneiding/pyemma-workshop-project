{
 "cells": [
  {
   "cell_type": "markdown",
   "metadata": {},
   "source": [
    "# Re-estimation of a transition matrix"
   ]
  },
  {
   "cell_type": "markdown",
   "metadata": {},
   "source": [
    "<img src=\"tran.jpeg\" alt=\"Drawing\" style=\"width: 750px;\"/>"
   ]
  },
  {
   "cell_type": "code",
   "execution_count": 17,
   "metadata": {},
   "outputs": [],
   "source": [
    "import numpy as np\n",
    "import scipy\n",
    "import pyemma\n",
    "import matplotlib.pyplot as plt\n",
    "\n",
    "np.set_printoptions(suppress=True)"
   ]
  },
  {
   "cell_type": "markdown",
   "metadata": {},
   "source": [
    "## Generate discrete trajectory from transition matrix"
   ]
  },
  {
   "cell_type": "code",
   "execution_count": 18,
   "metadata": {},
   "outputs": [],
   "source": [
    "import random\n",
    "import numpy as np\n",
    "\n",
    "size = 100000\n",
    "\n",
    "T = np.matrix([[ 0.97, 0.03, 0],[0.015 , 0.97, 0.015],[ 0, 0.03, 0.97]])\n",
    "\n",
    "def state0(i,num):\n",
    "    if num>T[0,0]:\n",
    "        return i+1\n",
    "    return i\n",
    "\n",
    "def state1(i,num):\n",
    "    if num<T[1,0]:\n",
    "        return i-1\n",
    "    elif T[1,0]<num<(T[1,2]+T[1,0]):\n",
    "        return i+1\n",
    "    return i\n",
    "\n",
    "def state2(i,num):\n",
    "    if num>T[2,2]:\n",
    "        return i-1\n",
    "    return i\n",
    "\n",
    "def decider(i, num):\n",
    "    new_i = i\n",
    "    if i==0:\n",
    "        new_i = state0(i,num)\n",
    "    if i==1:\n",
    "        new_i = state1(i,num)\n",
    "    if i==2:\n",
    "        new_i = state2(i,num)\n",
    "\n",
    "    return new_i\n",
    "\n",
    "\n",
    "i=0 # initial condition\n",
    "k=0\n",
    "\n",
    "dtraj=[]\n",
    "while k<size:\n",
    "    num = random.uniform(0, 1)\n",
    "    i = decider(i, num)\n",
    "    dtraj.append(i)\n",
    "    k=k+1\n"
   ]
  },
  {
   "cell_type": "code",
   "execution_count": 19,
   "metadata": {},
   "outputs": [
    {
     "data": {
      "image/png": "[encoded data removed]",
      "text/plain": [
       "<Figure size 432x288 with 1 Axes>"
      ]
     },
     "metadata": {
      "needs_background": "light"
     },
     "output_type": "display_data"
    }
   ],
   "source": [
    "#indices=list(range(size))\n",
    "start=int(size*0.5)\n",
    "end=int(size*0.55)\n",
    "\n",
    "indices=list(range(start, end))\n",
    "dtrajslice=dtraj[start:end]\n",
    "\n",
    "#print(len(indices))\n",
    "#print(len(dtrajslice))\n",
    "\n",
    "plt.scatter(indices, dtrajslice, s=.1)\n",
    "\n",
    "plt.plot(indices, dtrajslice, linewidth=0.5)\n",
    "plt.show()"
   ]
  },
  {
   "cell_type": "code",
   "execution_count": 20,
   "metadata": {},
   "outputs": [
    {
     "name": "stdout",
     "output_type": "stream",
     "text": [
      "[[0.2532  0.48176 0.26504]\n",
      " [0.24275 0.49901 0.25824]\n",
      " [0.25529 0.51293 0.23178]\n",
      " [0.26695 0.48906 0.24399]\n",
      " [0.25701 0.49466 0.24833]\n",
      " [0.26135 0.48991 0.24874]\n",
      " [0.24234 0.49877 0.25889]\n",
      " [0.2577  0.50762 0.23468]\n",
      " [0.24607 0.51219 0.24174]\n",
      " [0.24531 0.49968 0.25501]]\n",
      "\n",
      "\n",
      "Ratios of time spent in state 0 to time spent in state 2\n",
      "0.9553274977361907\n",
      "0.9400170384138785\n",
      "1.1014323927862628\n",
      "1.0941022173039878\n",
      "1.0349534893085812\n",
      "1.0506955053469487\n",
      "0.9360732357371857\n",
      "1.0980910175558207\n",
      "1.01791180607264\n",
      "0.9619622759891769\n",
      "\n",
      "\n",
      "Ratios of time spent in state 1 to time spent in state 2\n",
      "1.8176878961666163\n",
      "1.9323497521685253\n",
      "2.2130037104150486\n",
      "2.00442641091848\n",
      "1.9919462006201425\n",
      "1.9695666157433465\n",
      "1.926571130596006\n",
      "2.1630305096301345\n",
      "2.118763961280715\n",
      "1.959452570487432\n"
     ]
    }
   ],
   "source": [
    "def counter(traj):\n",
    "    numberofelements = []\n",
    "    k0 = 0\n",
    "    k1 = 0\n",
    "    k2 = 0\n",
    "    results=[]\n",
    "    for i in traj:\n",
    "        if i==0:\n",
    "            k0=k0+1\n",
    "        elif i==1:\n",
    "            k1=k1+1\n",
    "        elif i==2:\n",
    "            k2=k2+1\n",
    "        else:\n",
    "            print(\"Warning! Warning!\")\n",
    "    results.append(k0)\n",
    "    results.append(k1)\n",
    "    results.append(k2)\n",
    "    return results\n",
    "\n",
    "def runner():\n",
    "    k=0\n",
    "    i=0\n",
    "    traj = []\n",
    "    while k<size:\n",
    "        num = random.uniform(0, 1)\n",
    "        i = decider(i, num)\n",
    "        traj.append(i)\n",
    "        k=k+1\n",
    "    return traj\n",
    "\n",
    "runs=10\n",
    "\n",
    "resultmatrix=zeros=np.zeros((runs,3))\n",
    "for z in range(runs):\n",
    "    resultmatrix[z]=counter(runner())\n",
    "\n",
    "print(resultmatrix/size)\n",
    "print(\"\")\n",
    "print(\"\")\n",
    "print(\"Ratios of time spent in state 0 to time spent in state 2\")\n",
    "for i in range(runs):\n",
    "    print(resultmatrix[i][0]/resultmatrix[i][2])\n",
    "print(\"\")\n",
    "print(\"\")\n",
    "print(\"Ratios of time spent in state 1 to time spent in state 2\")\n",
    "\n",
    "for i in range(runs):\n",
    "    print(resultmatrix[i][1]/resultmatrix[i][2])"
   ]
  },
  {
   "cell_type": "markdown",
   "metadata": {},
   "source": [
    "## Generate continuous trajectory from discrete trajectory"
   ]
  },
  {
   "cell_type": "code",
   "execution_count": 21,
   "metadata": {},
   "outputs": [],
   "source": [
    "# parameters\n",
    "\n",
    "mu_0 = [-5,5]\n",
    "mu_1 = [0,0]\n",
    "mu_2 = [-5,-5]\n",
    "\n",
    "sigma_0 = [[1,0],[0,1]]\n",
    "sigma_1 = [[1,0],[0,1]]\n",
    "sigma_2 = [[1,0],[0,1]]\n",
    "\n",
    "mus = [mu_0, mu_1, mu_2]\n",
    "sigmas = [sigma_0, sigma_1, sigma_2]\n",
    "\n",
    "# generates a continuous trajectory drawn from bivariate gaussians\n",
    "def generate_traj(dtraj, mus, sigmas):\n",
    "    traj = []\n",
    "    for i in range(len(dtraj)):\n",
    "        if dtraj[i] == 0:\n",
    "            traj.append(np.random.multivariate_normal(mus[0], sigmas[0], size=1)[0])\n",
    "        elif dtraj[i] == 1:\n",
    "            traj.append(np.random.multivariate_normal(mus[1], sigmas[1], size=1)[0])\n",
    "        elif dtraj[i] == 2:\n",
    "            traj.append(np.random.multivariate_normal(mus[2], sigmas[2], size=1)[0])\n",
    "        else:\n",
    "            print(\"something went wrong\")\n",
    "            exit()\n",
    "    return np.array(traj)\n",
    "\n",
    "traj = generate_traj(dtraj, mus, sigmas)\n",
    "\n",
    "#print(traj)"
   ]
  },
  {
   "cell_type": "code",
   "execution_count": 22,
   "metadata": {},
   "outputs": [
    {
     "data": {
      "image/png": "[encoded data removed]",
      "text/plain": [
       "<Figure size 432x288 with 1 Axes>"
      ]
     },
     "metadata": {
      "needs_background": "light"
     },
     "output_type": "display_data"
    }
   ],
   "source": [
    "plt.scatter(traj[:,0], traj[:,1]);"
   ]
  },
  {
   "cell_type": "markdown",
   "metadata": {},
   "source": [
    "## Rotate trajectory into 5 dimensions and add noise"
   ]
  },
  {
   "cell_type": "code",
   "execution_count": 23,
   "metadata": {},
   "outputs": [
    {
     "data": {
      "image/png": "[encoded data removed]",
      "text/plain": [
       "<Figure size 432x288 with 2 Axes>"
      ]
     },
     "metadata": {
      "needs_background": "light"
     },
     "output_type": "display_data"
    }
   ],
   "source": [
    "pyemma.plots.plot_density(traj[:,0], traj[:,1]);"
   ]
  },
  {
   "cell_type": "code",
   "execution_count": 24,
   "metadata": {},
   "outputs": [],
   "source": [
    "def random_matrix():\n",
    "    v=np.array([np.random.random() for n in range(5)])\n",
    "    w=np.array([np.random.random() for n in range(5)])\n",
    "    #generating two random 5d vectors\n",
    "    vn=v/np.sqrt(sum(v**2))\n",
    "    wn=(w-np.dot(w,vn)*vn)/np.sqrt(sum((w-np.dot(w,vn)*vn)**2))\n",
    "    #orthonormalization with Gram-Schmidt\n",
    "    \n",
    "    return np.array([vn,wn])\n",
    "\n",
    "def fived(x,y, random_matrix,noise):\n",
    "    noise_matrix=[[np.random.random() - 0.5 for n in range(5)],[np.random.normal() for n in range(5)],[np.random.poisson() for n in range(5)]]\n",
    "    out=np.matmul(np.array([x,y]), random_matrix) + np.array(noise_matrix[noise])\n",
    "    return out\n",
    "\n",
    "random_matrix = random_matrix()"
   ]
  },
  {
   "cell_type": "code",
   "execution_count": null,
   "metadata": {},
   "outputs": [],
   "source": [
    "traj_5dim = []\n",
    "\n",
    "for i in range(len(traj)):\n",
    "    traj_5dim.append(fived(traj[i,0],traj[i,1], random_matrix, 0))\n",
    "\n",
    "traj_5dim = np.array(traj_5dim)"
   ]
  },
  {
   "cell_type": "markdown",
   "metadata": {},
   "source": [
    "## Analyse generated trajectory with pyEMMA"
   ]
  },
  {
   "cell_type": "code",
   "execution_count": null,
   "metadata": {},
   "outputs": [],
   "source": [
    "#specify data\n",
    "data = traj_5dim\n",
    "\n",
    "tica = pyemma.coordinates.tica(data, lag=10, var_cutoff=0.95)\n",
    "tica_concatenated = np.concatenate(tica.get_output())\n",
    "\n",
    "cls_tica = pyemma.coordinates.cluster_kmeans(tica, k=20, max_iter=50, stride=10)\n",
    "its_tica = pyemma.msm.its(cls_tica.dtrajs, lags=[1, 2, 5, 10, 20], nits=6, errors='bayes')"
   ]
  },
  {
   "cell_type": "code",
   "execution_count": null,
   "metadata": {},
   "outputs": [],
   "source": [
    "fig, axes = plt.subplots(1, 3, figsize=(12, 6))\n",
    "pyemma.plots.plot_feature_histograms(tica_concatenated, ax=axes[0])\n",
    "axes[0].set_title('TICA')\n",
    "pyemma.plots.plot_density(*tica_concatenated.T, ax=axes[1], cbar=False, alpha=0.1)\n",
    "\n",
    "axes[1].scatter(*cls_tica.clustercenters.T, s=15, c='C1')\n",
    "axes[1].set_xlabel('IC 1')\n",
    "axes[1].set_ylabel('IC 2')\n",
    "pyemma.plots.plot_implied_timescales(its_tica, ax=axes[2], units='ps')\n",
    "axes[2].set_ylim(1, 2000)\n",
    "axes[2].set_ylim(1, 2000)\n",
    "fig.tight_layout()"
   ]
  },
  {
   "cell_type": "code",
   "execution_count": null,
   "metadata": {},
   "outputs": [],
   "source": [
    "#specify data\n",
    "data = traj_5dim\n",
    "\n",
    "tica = pyemma.coordinates.tica(data, lag=10, var_cutoff=0.95)\n",
    "tica_concatenated = np.concatenate(tica.get_output())\n",
    "\n",
    "cls_tica = pyemma.coordinates.cluster_kmeans(tica, k=3, max_iter=50, stride=10)\n",
    "its_tica = pyemma.msm.its(cls_tica.dtrajs, lags=[1, 2, 5, 10, 20], nits=2, errors='bayes')"
   ]
  },
  {
   "cell_type": "code",
   "execution_count": null,
   "metadata": {},
   "outputs": [],
   "source": [
    "fig, axes = plt.subplots(1, 3, figsize=(12, 6))\n",
    "pyemma.plots.plot_feature_histograms(tica_concatenated, ax=axes[0])\n",
    "axes[0].set_title('TICA')\n",
    "pyemma.plots.plot_density(*tica_concatenated.T, ax=axes[1], cbar=False, alpha=0.1)\n",
    "\n",
    "axes[1].scatter(*cls_tica.clustercenters.T, s=15, c='C1')\n",
    "axes[1].set_xlabel('IC 1')\n",
    "axes[1].set_ylabel('IC 2')\n",
    "pyemma.plots.plot_implied_timescales(its_tica, ax=axes[2], units='ps')\n",
    "axes[2].set_ylim(1, 2000)\n",
    "axes[2].set_ylim(1, 2000)\n",
    "fig.tight_layout()"
   ]
  },
  {
   "cell_type": "code",
   "execution_count": null,
   "metadata": {},
   "outputs": [],
   "source": [
    "# generate msm\n",
    "bayesian_msm = pyemma.msm.bayesian_markov_model(cls_tica.dtrajs, lag=10, dt_traj='1 ps')\n",
    "# plot ck test\n",
    "pyemma.plots.plot_cktest(bayesian_msm.cktest(3), units='ps');"
   ]
  },
  {
   "cell_type": "code",
   "execution_count": null,
   "metadata": {},
   "outputs": [],
   "source": [
    "# transition matrix\n",
    "T = scipy.linalg.fractional_matrix_power(bayesian_msm.transition_matrix, 1/10)\n",
    "print(bayesian_msm.transition_matrix)\n",
    "print()\n",
    "print(T)"
   ]
  },
  {
   "cell_type": "code",
   "execution_count": null,
   "metadata": {},
   "outputs": [],
   "source": [
    "nstates = 3\n",
    "\n",
    "mfpt = np.zeros((nstates, nstates))\n",
    "for i in range(nstates):\n",
    "    for j in range(nstates):\n",
    "        mfpt[i, j] = bayesian_msm.mfpt(bayesian_msm.metastable_sets[i], bayesian_msm.metastable_sets[j])\n",
    "\n",
    "inverse_mfpt = np.zeros_like(mfpt)\n",
    "nz = mfpt.nonzero()\n",
    "inverse_mfpt[nz] = 1.0 / mfpt[nz]\n",
    "\n",
    "pyemma.plots.plot_network(\n",
    "    inverse_mfpt,\n",
    "    pos=np.asarray([[-1.5, 1.5], [0, 0], [-1.5, -1.5]]),\n",
    "    arrow_label_format='%.1f ps',\n",
    "    arrow_labels=mfpt,\n",
    "    arrow_scale=3.0,\n",
    "    state_labels=range(1, nstates + 1),\n",
    "    size=12);"
   ]
  },
  {
   "cell_type": "code",
   "execution_count": null,
   "metadata": {},
   "outputs": [],
   "source": []
  }
 ],
 "metadata": {
  "kernelspec": {
   "display_name": "Python 3",
   "language": "python",
   "name": "python3"
  },
  "language_info": {
   "codemirror_mode": {
    "name": "ipython",
    "version": 3
   },
   "file_extension": ".py",
   "mimetype": "text/x-python",
   "name": "python",
   "nbconvert_exporter": "python",
   "pygments_lexer": "ipython3",
   "version": "3.7.6"
  },
  "toc": {
   "base_numbering": 1,
   "nav_menu": {},
   "number_sections": true,
   "sideBar": true,
   "skip_h1_title": false,
   "title_cell": "Table of Contents",
   "title_sidebar": "Contents",
   "toc_cell": false,
   "toc_position": {},
   "toc_section_display": true,
   "toc_window_display": false
  }
 },
 "nbformat": 4,
 "nbformat_minor": 4
}
